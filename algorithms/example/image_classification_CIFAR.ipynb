{
 "cells": [
  {
   "cell_type": "code",
   "execution_count": 1,
   "metadata": {},
   "outputs": [],
   "source": [
    "from urllib.request import urlretrieve \n",
    "from os.path import isfile, isdir \n",
    "from tqdm import tqdm\n",
    "import tarfile"
   ]
  },
  {
   "cell_type": "code",
   "execution_count": 9,
   "metadata": {},
   "outputs": [
    {
     "name": "stderr",
     "output_type": "stream",
     "text": [
      "CIFAR-10 Dataset: 171MB [01:13, 2.31MB/s]                              \n"
     ]
    }
   ],
   "source": [
    "cifar10_dataset_folder_path = 'cifar-10-batches-py'\n",
    "class DownloadProgress(tqdm):\n",
    "  last_block = 0 \n",
    "  def hook(self, block_num = 1, block_size = 1, total_size=None):\n",
    "    self.total = total_size \n",
    "    self.update( (block_num - self.last_block) * block_size )\n",
    "    self.last_block = block_num \n",
    "if not isfile('cifar-10-python.tar.gz'):\n",
    "  with DownloadProgress(unit='B', unit_scale= True, miniters=1, desc='CIFAR-10 Dataset') as pbar:\n",
    "    urlretrieve(\n",
    "      'https://www.cs.toronto.edu/~kriz/cifar-10-python.tar.gz',\n",
    "      'cifar-10-python.tar.gz',\n",
    "      pbar.hook\n",
    "    )\n",
    "if not isdir( cifar10_dataset_folder_path):\n",
    "  with tarfile.open('cifar-10-python.tar.gz') as tar: \n",
    "    tar.extractall()\n",
    "    tar.close()"
   ]
  },
  {
   "cell_type": "code",
   "execution_count": 11,
   "metadata": {},
   "outputs": [],
   "source": [
    "import pickle\n",
    "import numpy as np\n",
    "import matplotlib.pyplot as plt"
   ]
  },
  {
   "cell_type": "code",
   "execution_count": 12,
   "metadata": {},
   "outputs": [],
   "source": [
    "def load_label_names():\n",
    "  return ['airplane','automobile','bird','cat','deer','dog','frog','horse', 'ship', 'truck']"
   ]
  },
  {
   "cell_type": "code",
   "execution_count": null,
   "metadata": {},
   "outputs": [],
   "source": []
  }
 ],
 "metadata": {
  "interpreter": {
   "hash": "916dbcbb3f70747c44a77c7bcd40155683ae19c65e1c03b4aa3499c5328201f1"
  },
  "kernelspec": {
   "display_name": "Python 3.9.7 64-bit",
   "language": "python",
   "name": "python3"
  },
  "language_info": {
   "codemirror_mode": {
    "name": "ipython",
    "version": 3
   },
   "file_extension": ".py",
   "mimetype": "text/x-python",
   "name": "python",
   "nbconvert_exporter": "python",
   "pygments_lexer": "ipython3",
   "version": "3.8.12"
  },
  "orig_nbformat": 4
 },
 "nbformat": 4,
 "nbformat_minor": 2
}
