{
 "cells": [
  {
   "cell_type": "code",
   "execution_count": 3,
   "metadata": {},
   "outputs": [],
   "source": [
    "import warnings \n",
    "warnings.filterwarnings('ignore')\n",
    "import os \n",
    "import pandas as pd \n",
    "import numpy as np \n",
    "import tensorflow as tf \n",
    "import cv2 \n",
    "import json\n",
    "import xmltodict\n",
    "import pickle \n",
    "LABEL = 'data/annotations'\n",
    "IMAGE = 'data/images'\n",
    "\n",
    "cat_detection = pd.DataFrame(columns=['image', 'label'])\n",
    "X = []\n",
    "y = []\n",
    "for image,label in zip(os.listdir(IMAGE), os.listdir(LABEL)):\n",
    "    with open(os.path.join(LABEL,label)) as xml_file:\n",
    "        \n",
    "        try:\n",
    "            data_dict = xmltodict.parse(xml_file.read())\n",
    "            name = data_dict['annotation']['object']['name']\n",
    "            img = cv2.imread(os.path.join(IMAGE,image), cv2.IMREAD_GRAYSCALE)\n",
    "            X.append(np.expand_dims(img, axis=-1)/255)\n",
    "            if name == 'cat':\n",
    "                bbox = data_dict['annotation']['object']['bndbox']\n",
    "                xmin, ymin, xmax, ymax = int(bbox['xmin']), int( bbox['ymin']), int(bbox['xmax']), int(bbox['ymax'])\n",
    "                y.append( [xmin, ymin, xmax, ymax, 1])\n",
    "            else:\n",
    "                y.append( [0, 0, 0, 0, 0])\n",
    "        except: \n",
    "            pass \n",
    "# X = np.array(X)\n",
    "# y = np.array(y)\n",
    "\n",
    "\n",
    "# Xp = open('X.pkl','wb')\n",
    "# pickle.dump(X,Xp )\n",
    "# Xp.close()\n",
    "\n",
    "# yp = open('y.pkl','wb')\n",
    "# pickle.dump(y,yp )\n",
    "# yp.close()\n",
    "print(X[-1], y)\n",
    "cat_detection.head()"
   ]
  },
  {
   "cell_type": "code",
   "execution_count": null,
   "metadata": {},
   "outputs": [],
   "source": []
  },
  {
   "cell_type": "code",
   "execution_count": 57,
   "metadata": {},
   "outputs": [],
   "source": [
    "\n"
   ]
  },
  {
   "cell_type": "code",
   "execution_count": null,
   "metadata": {},
   "outputs": [],
   "source": []
  }
 ],
 "metadata": {
  "interpreter": {
   "hash": "74a71eff7ab66ee71630148c34f65e695a7aa29c70bd77083c7a3b7e6031e80d"
  },
  "kernelspec": {
   "display_name": "Python 3 (ipykernel)",
   "language": "python",
   "name": "python3"
  },
  "language_info": {
   "codemirror_mode": {
    "name": "ipython",
    "version": 3
   },
   "file_extension": ".py",
   "mimetype": "text/x-python",
   "name": "python",
   "nbconvert_exporter": "python",
   "pygments_lexer": "ipython3",
   "version": "3.8.12"
  }
 },
 "nbformat": 4,
 "nbformat_minor": 2
}
