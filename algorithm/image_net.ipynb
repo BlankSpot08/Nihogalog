{
 "cells": [
  {
   "cell_type": "code",
   "execution_count": 2,
   "id": "164b9fe7",
   "metadata": {},
   "outputs": [
    {
     "name": "stderr",
     "output_type": "stream",
     "text": [
      "2022-03-07 14:26:27.480950: W tensorflow/stream_executor/platform/default/dso_loader.cc:64] Could not load dynamic library 'libcudart.so.11.0'; dlerror: libcudart.so.11.0: cannot open shared object file: No such file or directory; LD_LIBRARY_PATH: /home/zalven/anaconda3/envs/Deeplearning/lib/python3.8/site-packages/cv2/../../lib64:\n",
      "2022-03-07 14:26:27.481054: I tensorflow/stream_executor/cuda/cudart_stub.cc:29] Ignore above cudart dlerror if you do not have a GPU set up on your machine.\n"
     ]
    }
   ],
   "source": [
    "import warnings \n",
    "warnings.filterwarnings(\"ignore\")\n",
    "import numpy \n",
    "import cv2 \n",
    "\n",
    "import PIL.Image as Image\n",
    "import os\n",
    "\n",
    "%matplotlib inline \n",
    "import matplotlib.pyplot as plt\n",
    "import tensorflow as tf \n",
    "\n",
    "CLASSSES = ['cat', 'dog']\n",
    "LEARNING_RATE = 0.001\n",
    "EPOCHS = 500"
   ]
  },
  {
   "cell_type": "markdown",
   "id": "b8c7e6e6",
   "metadata": {},
   "source": [
    "<img src='./image_net_architecture.jpeg' width='300px'>"
   ]
  },
  {
   "cell_type": "code",
   "execution_count": null,
   "id": "e34a83e9",
   "metadata": {},
   "outputs": [],
   "source": []
  },
  {
   "cell_type": "code",
   "execution_count": 4,
   "id": "712635e7",
   "metadata": {},
   "outputs": [],
   "source": [
    "def depth_block(layer, strides):\n",
    "    layer = tf.keras.layers.DepthwiseConv2D(3, strides=strides, padding='same', use_bias=False)(layer)\n",
    "    layer = tf.keras.layers.BatchNormalization()(layer)\n",
    "    layer = tf.keras.layers.ReLU()(layer)\n",
    "    return layer \n",
    "\n",
    "def single_conv_block(layer,filters):\n",
    "    layer = tf.keras.layers.Conv2D(filters, 1,use_bias=False)(layer)\n",
    "    layer = tf.keras.layers.BatchNormalization()(layer)\n",
    "    layer = tf.keras.layers.ReLU()(layer)\n",
    "    return layer\n",
    "\n",
    "def combo_layer(layer,filters,strides):\n",
    "    layer = depth_block(layer,strides=strides)\n",
    "    layer = single_conv_block(layer, filters)\n",
    "    return layer \n",
    "\n",
    "    \n",
    "def MobileNet(input_shape=(224,224,3),n_classes = 1000):\n",
    "    model_input = tf.keras.Input(input_shape)\n",
    "    layer = tf.keras.layers.Conv2D(32,3, strides=(2,2), padding='same', use_bias=False)(model_input)\n",
    "    layer = tf.keras.layers.BatchNormalization()(layer)\n",
    "    layer = tf.keras.layers.ReLU()(layer)\n",
    "    layer = combo_layer(layer,64, strides=(2,2))\n",
    "    layer  = combo_layer(layer ,128,strides=(2,2))\n",
    "    layer  = combo_layer(layer ,128,strides=(1,1))\n",
    "    layer = combo_layer(layer,256,strides=(2,2))\n",
    "    layer = combo_layer(layer,256,strides=(1,1))\n",
    "    layer = combo_layer(layer,512,strides=(2,2))\n",
    "    for _ in range(5):\n",
    "        layer  = combo_layer(layer ,512,strides=(1,1))\n",
    "    layer = combo_layer(layer,1024,strides=(2,2))\n",
    "    layer = combo_layer(layer,1024,strides=(1,1))\n",
    "    layer = tf.keras.layers.GlobalAveragePooling2D()(layer)\n",
    "    model_output = tf.keras.layers.Dense(n_classes, activation=tf.keras.activations.softmax)(layer)\n",
    "    model = tf.keras.Model(model_input,model_output)\n",
    "\n",
    "    return model \n",
    "\n",
    "\n",
    "input_shape = (224,224,3)\n",
    "model = MobileNet(input_shape,len(CLASSSES))\n",
    "model.compile(\n",
    "    loss=tf.keras.losses.CategoricalCrossentropy,\n",
    "    optimizer=tf.keras.optimizers.Adam(learning_rate=LEARNING_RATE),\n",
    "    metrics=['accuracy']\n",
    ")\n",
    "# history = model.fit(epochs=EPOCHS)"
   ]
  },
  {
   "cell_type": "code",
   "execution_count": null,
   "id": "6a129239",
   "metadata": {},
   "outputs": [],
   "source": []
  }
 ],
 "metadata": {
  "kernelspec": {
   "display_name": "Python 3 (ipykernel)",
   "language": "python",
   "name": "python3"
  },
  "language_info": {
   "codemirror_mode": {
    "name": "ipython",
    "version": 3
   },
   "file_extension": ".py",
   "mimetype": "text/x-python",
   "name": "python",
   "nbconvert_exporter": "python",
   "pygments_lexer": "ipython3",
   "version": "3.8.12"
  }
 },
 "nbformat": 4,
 "nbformat_minor": 5
}
